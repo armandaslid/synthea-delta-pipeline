{
 "cells": [
  {
   "cell_type": "code",
   "execution_count": 1,
   "id": "de86b992",
   "metadata": {},
   "outputs": [
    {
     "name": "stderr",
     "output_type": "stream",
     "text": [
      "WARNING: Using incubator modules: jdk.incubator.vector\n",
      ":: loading settings :: url = jar:file:/Users/armandas.lidzius/Documents/Git/.data/lib/python3.13/site-packages/pyspark/jars/ivy-2.5.3.jar!/org/apache/ivy/core/settings/ivysettings.xml\n",
      "Ivy Default Cache set to: /Users/armandas.lidzius/.ivy2.5.2/cache\n",
      "The jars for the packages stored in: /Users/armandas.lidzius/.ivy2.5.2/jars\n",
      "io.delta#delta-spark_2.13 added as a dependency\n",
      ":: resolving dependencies :: org.apache.spark#spark-submit-parent-2571f9fb-3cd1-43e2-913d-617de28dec75;1.0\n",
      "\tconfs: [default]\n",
      "\tfound io.delta#delta-spark_2.13;4.0.0 in central\n",
      "\tfound io.delta#delta-storage;4.0.0 in central\n",
      "\tfound org.antlr#antlr4-runtime;4.13.1 in central\n",
      ":: resolution report :: resolve 70ms :: artifacts dl 3ms\n",
      "\t:: modules in use:\n",
      "\tio.delta#delta-spark_2.13;4.0.0 from central in [default]\n",
      "\tio.delta#delta-storage;4.0.0 from central in [default]\n",
      "\torg.antlr#antlr4-runtime;4.13.1 from central in [default]\n",
      "\t---------------------------------------------------------------------\n",
      "\t|                  |            modules            ||   artifacts   |\n",
      "\t|       conf       | number| search|dwnlded|evicted|| number|dwnlded|\n",
      "\t---------------------------------------------------------------------\n",
      "\t|      default     |   3   |   0   |   0   |   0   ||   3   |   0   |\n",
      "\t---------------------------------------------------------------------\n",
      ":: retrieving :: org.apache.spark#spark-submit-parent-2571f9fb-3cd1-43e2-913d-617de28dec75\n",
      "\tconfs: [default]\n",
      "\t0 artifacts copied, 3 already retrieved (0kB/3ms)\n",
      "25/09/11 19:20:30 WARN NativeCodeLoader: Unable to load native-hadoop library for your platform... using builtin-java classes where applicable\n",
      "Using Spark's default log4j profile: org/apache/spark/log4j2-defaults.properties\n",
      "Setting default log level to \"WARN\".\n",
      "To adjust logging level use sc.setLogLevel(newLevel). For SparkR, use setLogLevel(newLevel).\n"
     ]
    }
   ],
   "source": [
    "from delta import configure_spark_with_delta_pip\n",
    "from pyspark.sql import SparkSession\n",
    "\n",
    "# Create Spark session with Delta Lake support\n",
    "builder = (\n",
    "    SparkSession.builder\n",
    "    .appName(\"Synthea Delta Pipeline\")\n",
    "    .config(\"spark.sql.extensions\", \"io.delta.sql.DeltaSparkSessionExtension\")\n",
    "    .config(\"spark.sql.catalog.spark_catalog\", \"org.apache.spark.sql.delta.catalog.DeltaCatalog\")\n",
    ")\n",
    "\n",
    "# Wrap builder to include delta-spark pip package\n",
    "spark = configure_spark_with_delta_pip(builder).getOrCreate()\n"
   ]
  },
  {
   "cell_type": "code",
   "execution_count": 2,
   "id": "714d6e71",
   "metadata": {},
   "outputs": [
    {
     "name": "stderr",
     "output_type": "stream",
     "text": [
      "25/09/11 19:20:36 WARN SparkStringUtils: Truncated the string representation of a plan since it was too large. This behavior can be adjusted by setting 'spark.sql.debug.maxToStringFields'.\n",
      "                                                                                \r"
     ]
    },
    {
     "name": "stdout",
     "output_type": "stream",
     "text": [
      "+------------------------------------+----------+---------+------+-----+-----------+-------+-------------+---------------+--------------+---------------+--------------+--------+--------+--------+----------+---------------+--------------+--------------+---+-----------+\n",
      "|id                                  |birthdate |deathdate|gender|race |ethnicity  |marital|state        |city           |num_encounters|first_encounter|last_encounter|pain_min|pain_max|pain_avg|pain_count|num_medications|total_med_cost|num_conditions|age|is_deceased|\n",
      "+------------------------------------+----------+---------+------+-----+-----------+-------+-------------+---------------+--------------+---------------+--------------+--------+--------+--------+----------+---------------+--------------+--------------+---+-----------+\n",
      "|b9c610cd-28a6-4636-ccb6-c7a0d2a4cb85|2019-02-17|NULL     |M     |white|nonhispanic|unknown|Massachusetts|Springfield    |12            |2019-02-17     |2021-07-25    |0.0     |4.0     |1.8     |10        |2              |5313.63       |0             |6  |0          |\n",
      "|c1f1fcaa-82fd-d5b7-3544-c8f9708b06a8|2005-07-04|NULL     |F     |white|nonhispanic|unknown|Massachusetts|Bellingham     |20            |2012-06-25     |2021-10-04    |1.0     |4.0     |2.5     |10        |5              |1181.78       |6             |20 |0          |\n",
      "|339144f8-50e1-633e-a013-f361391c4cff|1998-05-11|NULL     |M     |white|nonhispanic|unknown|Massachusetts|Boston         |19            |2012-06-11     |2021-08-02    |0.0     |4.0     |1.91    |11        |22             |81.71         |19            |27 |0          |\n",
      "|d488232e-bf14-4bed-08c0-a82f34b6a197|2003-01-28|NULL     |F     |white|nonhispanic|unknown|Massachusetts|Hingham        |31            |2011-06-01     |2021-09-27    |1.0     |4.0     |2.67    |12        |2              |19.8          |10            |22 |0          |\n",
      "|217f95a3-4e10-bd5d-fb67-0cfb5e8ba075|1993-12-23|NULL     |M     |black|nonhispanic|M      |Massachusetts|Revere         |10            |2012-02-16     |2019-02-28    |1.0     |2.0     |1.25    |4         |1              |9.14          |14            |31 |0          |\n",
      "|faac724a-a9e9-be66-fe1e-3044dc0ba8ea|2020-12-04|NULL     |F     |white|nonhispanic|unknown|Massachusetts|New Marlborough|7             |2020-12-04     |2021-11-12    |0.0     |2.0     |0.83    |6         |0              |0.0           |4             |4  |0          |\n",
      "|23d16ee3-8cd4-eeb8-e77e-1e5fbf4c4159|1990-12-15|NULL     |M     |black|hispanic   |M      |Massachusetts|Revere         |13            |2004-01-10     |2019-02-23    |1.0     |4.0     |2.5     |4         |3              |71.68         |16            |34 |0          |\n",
      "|aade3c61-92bd-d079-9d28-0b2b7fde0fbb|1985-06-05|NULL     |M     |white|nonhispanic|M      |Massachusetts|Somerville     |17            |1994-07-20     |2021-05-19    |1.0     |3.0     |2.0     |4         |4              |43.44         |21            |40 |0          |\n",
      "|0288c42c-43a1-9878-4a9d-6b96caa12c40|1979-12-17|NULL     |F     |white|nonhispanic|M      |Massachusetts|Cambridge      |32            |1981-05-02     |2021-06-01    |0.0     |10.0    |4.23    |18        |16             |17048.03      |23            |45 |0          |\n",
      "|dc6c06d0-a7d8-100f-c08b-46c93700c188|2006-07-11|NULL     |M     |white|nonhispanic|unknown|Massachusetts|Springfield    |16            |2012-06-26     |2021-09-28    |0.0     |4.0     |2.4     |10        |2              |24.49         |3             |19 |0          |\n",
      "+------------------------------------+----------+---------+------+-----+-----------+-------+-------------+---------------+--------------+---------------+--------------+--------+--------+--------+----------+---------------+--------------+--------------+---+-----------+\n",
      "only showing top 10 rows\n"
     ]
    }
   ],
   "source": [
    "# Read the delta table that was created in exploration_and_transformation.ipynb\n",
    "patients_delta = spark.read.format(\"delta\").load(\"../data/clean/patients_main\")\n",
    "\n",
    "# Show table preview\n",
    "patients_delta.show(10, truncate=False)\n"
   ]
  },
  {
   "cell_type": "code",
   "execution_count": 3,
   "id": "4c8beaae",
   "metadata": {},
   "outputs": [
    {
     "name": "stdout",
     "output_type": "stream",
     "text": [
      "root\n",
      " |-- id: string (nullable = true)\n",
      " |-- birthdate: date (nullable = true)\n",
      " |-- deathdate: date (nullable = true)\n",
      " |-- gender: string (nullable = true)\n",
      " |-- race: string (nullable = true)\n",
      " |-- ethnicity: string (nullable = true)\n",
      " |-- marital: string (nullable = true)\n",
      " |-- state: string (nullable = true)\n",
      " |-- city: string (nullable = true)\n",
      " |-- num_encounters: long (nullable = true)\n",
      " |-- first_encounter: date (nullable = true)\n",
      " |-- last_encounter: date (nullable = true)\n",
      " |-- pain_min: double (nullable = true)\n",
      " |-- pain_max: double (nullable = true)\n",
      " |-- pain_avg: double (nullable = true)\n",
      " |-- pain_count: long (nullable = true)\n",
      " |-- num_medications: long (nullable = true)\n",
      " |-- total_med_cost: double (nullable = true)\n",
      " |-- num_conditions: long (nullable = true)\n",
      " |-- age: long (nullable = true)\n",
      " |-- is_deceased: integer (nullable = true)\n",
      "\n"
     ]
    }
   ],
   "source": [
    "# Show schema\n",
    "patients_delta.printSchema()\n"
   ]
  },
  {
   "cell_type": "code",
   "execution_count": 4,
   "id": "1f972206",
   "metadata": {},
   "outputs": [
    {
     "name": "stdout",
     "output_type": "stream",
     "text": [
      "1163\n"
     ]
    }
   ],
   "source": [
    "# Count all patients (rows)\n",
    "print(patients_delta.count())\n"
   ]
  },
  {
   "cell_type": "code",
   "execution_count": 7,
   "id": "29562d10",
   "metadata": {},
   "outputs": [
    {
     "name": "stdout",
     "output_type": "stream",
     "text": [
      "+--------------------+----------+----------+------+-----+-----------+-------+-------------+---------------+--------------+---------------+--------------+--------+--------+--------+----------+---------------+--------------+--------------+---+-----------+\n",
      "|                  id| birthdate| deathdate|gender| race|  ethnicity|marital|        state|           city|num_encounters|first_encounter|last_encounter|pain_min|pain_max|pain_avg|pain_count|num_medications|total_med_cost|num_conditions|age|is_deceased|\n",
      "+--------------------+----------+----------+------+-----+-----------+-------+-------------+---------------+--------------+---------------+--------------+--------+--------+--------+----------+---------------+--------------+--------------+---+-----------+\n",
      "|c0219ca9-576f-f7c...|1971-12-06|      NULL|     F|white|   hispanic|      M|Massachusetts|     Somerville|            38|     1990-01-29|    2021-09-29|     0.0|     2.0|     1.2|         5|             12|      43412.18|            31| 53|          0|\n",
      "|55a6a46e-a1a4-029...|1958-09-18|2009-11-13|     F|white|nonhispanic|      M|Massachusetts|         Quincy|            44|     1959-12-22|    2009-11-19|     0.0|     8.0|    4.08|        13|             11|     183088.26|            28| 66|          1|\n",
      "|1d3d0ba6-5475-07c...|1960-01-21|      NULL|     F|white|nonhispanic|      M|Massachusetts|East Longmeadow|            38|     1974-02-21|    2021-05-22|     0.0|     4.0|     1.8|        10|              7|           2.0|            41| 65|          0|\n",
      "|8c2d5e9b-0717-961...|1960-12-15|      NULL|     F|white|nonhispanic|      S|Massachusetts|      Haverhill|            82|     1963-11-30|    2021-10-15|     0.0|     4.0|     2.1|        10|            137|     325164.53|            39| 64|          0|\n",
      "|a7624ac9-6308-e01...|1959-11-02|      NULL|     F|white|nonhispanic|      M|Massachusetts|        Waltham|            96|     1960-05-05|    2021-08-30|     0.0|     8.0|    2.45|        11|            150|      370136.9|            60| 65|          0|\n",
      "+--------------------+----------+----------+------+-----+-----------+-------+-------------+---------------+--------------+---------------+--------------+--------+--------+--------+----------+---------------+--------------+--------------+---+-----------+\n",
      "only showing top 5 rows\n"
     ]
    }
   ],
   "source": [
    "# These PySpark DataFrame operations allow you to filter, select, and aggregate data\n",
    "# in a way similar to SQL queries (WHERE, SELECT, GROUP BY, etc.)\n",
    "\n",
    "# Patients older than 50\n",
    "patients_delta.filter(patients_delta.age > 50).show(5)\n"
   ]
  },
  {
   "cell_type": "code",
   "execution_count": 8,
   "id": "71f65e26",
   "metadata": {},
   "outputs": [
    {
     "name": "stdout",
     "output_type": "stream",
     "text": [
      "+--------------------+--------+\n",
      "|                  id|pain_avg|\n",
      "+--------------------+--------+\n",
      "|0288c42c-43a1-987...|    4.23|\n",
      "|55a6a46e-a1a4-029...|    4.08|\n",
      "|2f031d4a-b070-ce1...|    3.88|\n",
      "|060e72d3-912e-55c...|    3.71|\n",
      "|a7b903a5-5c6f-3f5...|     4.4|\n",
      "+--------------------+--------+\n",
      "only showing top 5 rows\n"
     ]
    }
   ],
   "source": [
    "# Patients with pain_avg > 3\n",
    "patients_delta.filter(patients_delta.pain_avg > 3).select(\"id\", \"pain_avg\").show(5)\n"
   ]
  },
  {
   "cell_type": "code",
   "execution_count": 12,
   "id": "d1c5d41e",
   "metadata": {},
   "outputs": [
    {
     "name": "stdout",
     "output_type": "stream",
     "text": [
      "+-------------------+\n",
      "|avg(total_med_cost)|\n",
      "+-------------------+\n",
      "|  63549.27981943252|\n",
      "+-------------------+\n",
      "\n"
     ]
    }
   ],
   "source": [
    "# Average total medication cost\n",
    "patients_delta.agg({\"total_med_cost\": \"avg\"}).show()\n"
   ]
  }
 ],
 "metadata": {
  "kernelspec": {
   "display_name": ".data",
   "language": "python",
   "name": "python3"
  },
  "language_info": {
   "codemirror_mode": {
    "name": "ipython",
    "version": 3
   },
   "file_extension": ".py",
   "mimetype": "text/x-python",
   "name": "python",
   "nbconvert_exporter": "python",
   "pygments_lexer": "ipython3",
   "version": "3.13.7"
  }
 },
 "nbformat": 4,
 "nbformat_minor": 5
}
