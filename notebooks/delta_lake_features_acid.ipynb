{
 "cells": [
  {
   "cell_type": "code",
   "execution_count": 21,
   "id": "e1ab11e9",
   "metadata": {},
   "outputs": [],
   "source": [
    "from delta import configure_spark_with_delta_pip\n",
    "from pyspark.sql import SparkSession\n",
    "from pyspark.sql import functions as F\n",
    "\n",
    "# Create Spark session with Delta Lake\n",
    "builder = (\n",
    "    SparkSession.builder\n",
    "    .appName(\"DeltaLake ACID Demo\")\n",
    "    .config(\"spark.sql.extensions\", \"io.delta.sql.DeltaSparkSessionExtension\")\n",
    "    .config(\"spark.sql.catalog.spark_catalog\", \"org.apache.spark.sql.delta.catalog.DeltaCatalog\")\n",
    ")\n",
    "\n",
    "# Wrap builder to include delta-spark pip package\n",
    "spark = configure_spark_with_delta_pip(builder).getOrCreate()\n"
   ]
  },
  {
   "cell_type": "code",
   "execution_count": 22,
   "id": "3829e7a6",
   "metadata": {},
   "outputs": [
    {
     "name": "stdout",
     "output_type": "stream",
     "text": [
      "Original table preview:\n",
      "+------------------------------------+----------+---------+------+-----+-----------+-------+-------------+---------------+--------------+---------------+--------------+--------+--------+--------+----------+---------------+--------------+--------------+---+-----------+\n",
      "|id                                  |birthdate |deathdate|gender|race |ethnicity  |marital|state        |city           |num_encounters|first_encounter|last_encounter|pain_min|pain_max|pain_avg|pain_count|num_medications|total_med_cost|num_conditions|age|is_deceased|\n",
      "+------------------------------------+----------+---------+------+-----+-----------+-------+-------------+---------------+--------------+---------------+--------------+--------+--------+--------+----------+---------------+--------------+--------------+---+-----------+\n",
      "|b9c610cd-28a6-4636-ccb6-c7a0d2a4cb85|2019-02-17|NULL     |M     |white|nonhispanic|unknown|Massachusetts|Springfield    |12            |2019-02-17     |2021-07-25    |0.0     |4.0     |1.8     |10        |2              |5313.63       |0             |6  |0          |\n",
      "|c1f1fcaa-82fd-d5b7-3544-c8f9708b06a8|2005-07-04|NULL     |F     |white|nonhispanic|unknown|Massachusetts|Bellingham     |20            |2012-06-25     |2021-10-04    |1.0     |4.0     |2.5     |10        |5              |1181.78       |6             |20 |0          |\n",
      "|339144f8-50e1-633e-a013-f361391c4cff|1998-05-11|NULL     |M     |white|nonhispanic|unknown|Massachusetts|Boston         |19            |2012-06-11     |2021-08-02    |0.0     |4.0     |1.91    |11        |22             |81.71         |19            |27 |0          |\n",
      "|d488232e-bf14-4bed-08c0-a82f34b6a197|2003-01-28|NULL     |F     |white|nonhispanic|unknown|Massachusetts|Hingham        |31            |2011-06-01     |2021-09-27    |1.0     |4.0     |2.67    |12        |2              |19.8          |10            |22 |0          |\n",
      "|217f95a3-4e10-bd5d-fb67-0cfb5e8ba075|1993-12-23|NULL     |M     |black|nonhispanic|M      |Massachusetts|Revere         |10            |2012-02-16     |2019-02-28    |1.0     |2.0     |1.25    |4         |1              |9.14          |14            |31 |0          |\n",
      "|faac724a-a9e9-be66-fe1e-3044dc0ba8ea|2020-12-04|NULL     |F     |white|nonhispanic|unknown|Massachusetts|New Marlborough|7             |2020-12-04     |2021-11-12    |0.0     |2.0     |0.83    |6         |0              |0.0           |4             |4  |0          |\n",
      "|23d16ee3-8cd4-eeb8-e77e-1e5fbf4c4159|1990-12-15|NULL     |M     |black|hispanic   |M      |Massachusetts|Revere         |13            |2004-01-10     |2019-02-23    |1.0     |4.0     |2.5     |4         |3              |71.68         |16            |34 |0          |\n",
      "|aade3c61-92bd-d079-9d28-0b2b7fde0fbb|1985-06-05|NULL     |M     |white|nonhispanic|M      |Massachusetts|Somerville     |17            |1994-07-20     |2021-05-19    |1.0     |3.0     |2.0     |4         |4              |43.44         |21            |40 |0          |\n",
      "|0288c42c-43a1-9878-4a9d-6b96caa12c40|1979-12-17|NULL     |F     |white|nonhispanic|M      |Massachusetts|Cambridge      |32            |1981-05-02     |2021-06-01    |0.0     |10.0    |4.23    |18        |16             |17048.03      |23            |45 |0          |\n",
      "|dc6c06d0-a7d8-100f-c08b-46c93700c188|2006-07-11|NULL     |M     |white|nonhispanic|unknown|Massachusetts|Springfield    |16            |2012-06-26     |2021-09-28    |0.0     |4.0     |2.4     |10        |2              |24.49         |3             |19 |0          |\n",
      "+------------------------------------+----------+---------+------+-----+-----------+-------+-------------+---------------+--------------+---------------+--------------+--------+--------+--------+----------+---------------+--------------+--------------+---+-----------+\n",
      "only showing top 10 rows\n"
     ]
    }
   ],
   "source": [
    "# Read existing Delta table (Copy not to break other notebooks)\n",
    "delta_path = \"../data/clean/patients_main_copy\"\n",
    "patients_delta = spark.read.format(\"delta\").load(delta_path)\n",
    "\n",
    "# Show table preview\n",
    "print(\"Original table preview:\")\n",
    "patients_delta.show(10, truncate=False)\n"
   ]
  },
  {
   "cell_type": "code",
   "execution_count": 23,
   "id": "cd3279fd",
   "metadata": {},
   "outputs": [
    {
     "name": "stdout",
     "output_type": "stream",
     "text": [
      "root\n",
      " |-- id: string (nullable = true)\n",
      " |-- birthdate: date (nullable = true)\n",
      " |-- deathdate: date (nullable = true)\n",
      " |-- gender: string (nullable = true)\n",
      " |-- race: string (nullable = true)\n",
      " |-- ethnicity: string (nullable = true)\n",
      " |-- marital: string (nullable = true)\n",
      " |-- state: string (nullable = true)\n",
      " |-- city: string (nullable = true)\n",
      " |-- num_encounters: long (nullable = true)\n",
      " |-- first_encounter: date (nullable = true)\n",
      " |-- last_encounter: date (nullable = true)\n",
      " |-- pain_min: double (nullable = true)\n",
      " |-- pain_max: double (nullable = true)\n",
      " |-- pain_avg: double (nullable = true)\n",
      " |-- pain_count: long (nullable = true)\n",
      " |-- num_medications: long (nullable = true)\n",
      " |-- total_med_cost: double (nullable = true)\n",
      " |-- num_conditions: long (nullable = true)\n",
      " |-- age: long (nullable = true)\n",
      " |-- is_deceased: integer (nullable = true)\n",
      "\n"
     ]
    }
   ],
   "source": [
    "# Show schema\n",
    "patients_delta.printSchema()\n"
   ]
  },
  {
   "cell_type": "code",
   "execution_count": 24,
   "id": "51d855be",
   "metadata": {},
   "outputs": [
    {
     "name": "stdout",
     "output_type": "stream",
     "text": [
      "Original row count: 1163\n"
     ]
    }
   ],
   "source": [
    "# Count rows before overwrite\n",
    "original_count = patients_delta.count()\n",
    "print(f\"Original row count: {original_count}\")\n"
   ]
  },
  {
   "cell_type": "code",
   "execution_count": null,
   "id": "5da2bb50",
   "metadata": {},
   "outputs": [],
   "source": [
    "# Add a new patient\n",
    "# Read new patient CSV\n",
    "new_patient_df = spark.read.csv(\"../data/raw/new_patient.csv\", header=True, inferSchema=True)\n",
    "\n",
    "# Combine with existing table (add new_patient)\n",
    "patients_updated = patients_delta.unionByName(new_patient_df)\n",
    "\n",
    "# We could use \"append\" here (at the end of the notebook) if we were adding just this one patient,\n",
    "# but in this case we are using \"overwrite\" to replace the table with the updated DataFrame.\n"
   ]
  },
  {
   "cell_type": "code",
   "execution_count": 26,
   "id": "4494c95d",
   "metadata": {},
   "outputs": [
    {
     "name": "stdout",
     "output_type": "stream",
     "text": [
      "+--------------------+----------+---------+------+-----+-----------+-------+-------------+-----------+--------------+---------------+--------------+--------+--------+--------+----------+---------------+--------------+--------------+---+-----------+\n",
      "|                  id| birthdate|deathdate|gender| race|  ethnicity|marital|        state|       city|num_encounters|first_encounter|last_encounter|pain_min|pain_max|pain_avg|pain_count|num_medications|total_med_cost|num_conditions|age|is_deceased|\n",
      "+--------------------+----------+---------+------+-----+-----------+-------+-------------+-----------+--------------+---------------+--------------+--------+--------+--------+----------+---------------+--------------+--------------+---+-----------+\n",
      "|b9c610cd-28a6-463...|2019-02-17|     NULL|     M|white|nonhispanic|unknown|Massachusetts|Springfield|            12|     2019-02-17|    2021-07-25|     0.0|     4.0|     1.8|        10|              2|       5313.63|             0|  6|          0|\n",
      "|c1f1fcaa-82fd-d5b...|2005-07-04|     NULL|     F|white|nonhispanic|unknown|Massachusetts| Bellingham|            20|     2012-06-25|    2021-10-04|     1.0|     4.0|     2.5|        10|              5|       1181.78|             6| 20|          0|\n",
      "|339144f8-50e1-633...|1998-05-11|     NULL|     M|white|nonhispanic|unknown|Massachusetts|     Boston|            19|     2012-06-11|    2021-08-02|     0.0|     4.0|    1.91|        11|             22|         81.71|            19| 27|          0|\n",
      "|d488232e-bf14-4be...|2003-01-28|     NULL|     F|white|nonhispanic|unknown|Massachusetts|    Hingham|            31|     2011-06-01|    2021-09-27|     1.0|     4.0|    2.67|        12|              2|          19.8|            10| 22|          0|\n",
      "|217f95a3-4e10-bd5...|1993-12-23|     NULL|     M|black|nonhispanic|      M|Massachusetts|     Revere|            10|     2012-02-16|    2019-02-28|     1.0|     2.0|    1.25|         4|              1|          9.14|            14| 31|          0|\n",
      "+--------------------+----------+---------+------+-----+-----------+-------+-------------+-----------+--------------+---------------+--------------+--------+--------+--------+----------+---------------+--------------+--------------+---+-----------+\n",
      "only showing top 5 rows\n",
      "+--------------------+----------+---------+------+-----+-----------+-------+-------------+-----------+--------------+---------------+--------------+--------+--------+--------+----------+---------------+--------------+--------------+---+-----------+\n",
      "|                  id| birthdate|deathdate|gender| race|  ethnicity|marital|        state|       city|num_encounters|first_encounter|last_encounter|pain_min|pain_max|pain_avg|pain_count|num_medications|total_med_cost|num_conditions|age|is_deceased|\n",
      "+--------------------+----------+---------+------+-----+-----------+-------+-------------+-----------+--------------+---------------+--------------+--------+--------+--------+----------+---------------+--------------+--------------+---+-----------+\n",
      "|1234567-abcd-8901...|1983-09-15|     NULL|     F|white|nonhispanic| single|Massachusetts|Springfield|             0|           NULL|          NULL|     0.0|     0.0|     0.0|         0|              0|           0.0|             0| 40|          0|\n",
      "+--------------------+----------+---------+------+-----+-----------+-------+-------------+-----------+--------------+---------------+--------------+--------+--------+--------+----------+---------------+--------------+--------------+---+-----------+\n",
      "\n"
     ]
    }
   ],
   "source": [
    "# Table preview\n",
    "patients_updated.show(5)\n",
    "\n",
    "# Show newly added patient from the updated table\n",
    "patients_updated.filter(patients_delta.id == \"1234567-abcd-8901-efgh-12gf14sgh56i\").show(5)\n"
   ]
  },
  {
   "cell_type": "code",
   "execution_count": 27,
   "id": "bb9fe9a5",
   "metadata": {},
   "outputs": [
    {
     "name": "stdout",
     "output_type": "stream",
     "text": [
      "✅ Delta table successfully overwriten\n"
     ]
    }
   ],
   "source": [
    "# Overwrite Delta table (ACID demo)\n",
    "# We use \"overwrite\" because we created a new DataFrame with updates and a new patient.\n",
    "# This demonstrates an atomic (all or nothing) write: either the entire table is replaced or nothing is applied.\n",
    "# If we were adding only a single new patient without modifying existing rows, we could use \"append\" instead.\n",
    "patients_updated.write.format(\"delta\").mode(\"overwrite\").save(delta_path)\n",
    "\n",
    "print(\"✅ Delta table successfully overwriten\")\n"
   ]
  },
  {
   "cell_type": "code",
   "execution_count": 31,
   "id": "55332491",
   "metadata": {},
   "outputs": [
    {
     "name": "stdout",
     "output_type": "stream",
     "text": [
      "+------------------------------------+----------+---------+------+-----+-----------+-------+-------------+-----------+--------------+---------------+--------------+--------+--------+--------+----------+---------------+--------------+--------------+---+-----------+\n",
      "|id                                  |birthdate |deathdate|gender|race |ethnicity  |marital|state        |city       |num_encounters|first_encounter|last_encounter|pain_min|pain_max|pain_avg|pain_count|num_medications|total_med_cost|num_conditions|age|is_deceased|\n",
      "+------------------------------------+----------+---------+------+-----+-----------+-------+-------------+-----------+--------------+---------------+--------------+--------+--------+--------+----------+---------------+--------------+--------------+---+-----------+\n",
      "|b9c610cd-28a6-4636-ccb6-c7a0d2a4cb85|2019-02-17|NULL     |M     |white|nonhispanic|unknown|Massachusetts|Springfield|12            |2019-02-17     |2021-07-25    |0.0     |4.0     |1.8     |10        |2              |5313.63       |0             |6  |0          |\n",
      "|c1f1fcaa-82fd-d5b7-3544-c8f9708b06a8|2005-07-04|NULL     |F     |white|nonhispanic|unknown|Massachusetts|Bellingham |20            |2012-06-25     |2021-10-04    |1.0     |4.0     |2.5     |10        |5              |1181.78       |6             |20 |0          |\n",
      "|339144f8-50e1-633e-a013-f361391c4cff|1998-05-11|NULL     |M     |white|nonhispanic|unknown|Massachusetts|Boston     |19            |2012-06-11     |2021-08-02    |0.0     |4.0     |1.91    |11        |22             |81.71         |19            |27 |0          |\n",
      "|d488232e-bf14-4bed-08c0-a82f34b6a197|2003-01-28|NULL     |F     |white|nonhispanic|unknown|Massachusetts|Hingham    |31            |2011-06-01     |2021-09-27    |1.0     |4.0     |2.67    |12        |2              |19.8          |10            |22 |0          |\n",
      "|217f95a3-4e10-bd5d-fb67-0cfb5e8ba075|1993-12-23|NULL     |M     |black|nonhispanic|M      |Massachusetts|Revere     |10            |2012-02-16     |2019-02-28    |1.0     |2.0     |1.25    |4         |1              |9.14          |14            |31 |0          |\n",
      "+------------------------------------+----------+---------+------+-----+-----------+-------+-------------+-----------+--------------+---------------+--------------+--------+--------+--------+----------+---------------+--------------+--------------+---+-----------+\n",
      "only showing top 5 rows\n",
      "Row count after overwrite: 1164\n",
      "Original row count: 1163\n"
     ]
    }
   ],
   "source": [
    "# Verify table after overwrite\n",
    "patients_after = spark.read.format(\"delta\").load(delta_path)\n",
    "\n",
    "patients_after.show(5, truncate=False)\n",
    "\n",
    "print(f\"Row count after overwrite: {patients_after.count()}\")\n",
    "print(f\"Original row count: {original_count}\")"
   ]
  }
 ],
 "metadata": {
  "kernelspec": {
   "display_name": ".data",
   "language": "python",
   "name": "python3"
  },
  "language_info": {
   "codemirror_mode": {
    "name": "ipython",
    "version": 3
   },
   "file_extension": ".py",
   "mimetype": "text/x-python",
   "name": "python",
   "nbconvert_exporter": "python",
   "pygments_lexer": "ipython3",
   "version": "3.13.7"
  }
 },
 "nbformat": 4,
 "nbformat_minor": 5
}
