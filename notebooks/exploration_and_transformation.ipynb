{
 "cells": [
  {
   "cell_type": "code",
   "execution_count": 26,
   "id": "f31eaad8",
   "metadata": {},
   "outputs": [],
   "source": [
    "from delta import configure_spark_with_delta_pip\n",
    "from pyspark.sql import SparkSession\n",
    "\n",
    "# Create Spark session with Delta Lake support\n",
    "builder = (\n",
    "    SparkSession.builder\n",
    "    .appName(\"Synthea Delta Pipeline\")\n",
    "    .config(\"spark.sql.extensions\", \"io.delta.sql.DeltaSparkSessionExtension\")\n",
    "    .config(\"spark.sql.catalog.spark_catalog\", \"org.apache.spark.sql.delta.catalog.DeltaCatalog\")\n",
    ")\n",
    "\n",
    "# Wrap builder to include delta-spark pip package\n",
    "spark = configure_spark_with_delta_pip(builder).getOrCreate()\n"
   ]
  },
  {
   "cell_type": "code",
   "execution_count": 27,
   "id": "cd650b7e",
   "metadata": {},
   "outputs": [
    {
     "name": "stdout",
     "output_type": "stream",
     "text": [
      "+--------------------+----------+---------+-----------+---------+----------+------+----------+--------------+------+------+-------+-----+-----------+------+--------------------+--------------------+-----------+-------------+---------------+-----+------------------+------------------+-------------------+-------------------+\n",
      "|                  Id| BIRTHDATE|DEATHDATE|        SSN|  DRIVERS|  PASSPORT|PREFIX|     FIRST|          LAST|SUFFIX|MAIDEN|MARITAL| RACE|  ETHNICITY|GENDER|          BIRTHPLACE|             ADDRESS|       CITY|        STATE|         COUNTY|  ZIP|               LAT|               LON|HEALTHCARE_EXPENSES|HEALTHCARE_COVERAGE|\n",
      "+--------------------+----------+---------+-----------+---------+----------+------+----------+--------------+------+------+-------+-----+-----------+------+--------------------+--------------------+-----------+-------------+---------------+-----+------------------+------------------+-------------------+-------------------+\n",
      "|b9c610cd-28a6-463...|2019-02-17|     NULL|999-65-3251|     NULL|      NULL|  NULL|  Damon455|    Langosh790|  NULL|  NULL|   NULL|white|nonhispanic|     M|Middleborough  Ma...|620 Lynch Tunnel ...|Springfield|Massachusetts| Hampden County|01104| 42.08038942501558|-72.48043144917739|          9039.1645|          7964.1255|\n",
      "|c1f1fcaa-82fd-d5b...|2005-07-04|     NULL|999-49-3323|S99941126|      NULL|  NULL|     Thi53|     Wunsch504|  NULL|  NULL|   NULL|white|nonhispanic|     F|Danvers  Massachu...|972 Tillman Branc...| Bellingham|Massachusetts| Norfolk County| NULL| 42.03521335752818|-71.48251904737748|         402723.415| 14064.135000000002|\n",
      "|339144f8-50e1-633...|1998-05-11|     NULL|999-10-8743|S99996708|X75063318X|   Mr.|    Chi716|Greenfelder433|  NULL|  NULL|   NULL|white|nonhispanic|     M|Athens  Athens Pr...|1060 Bernhard Cro...|     Boston|Massachusetts| Suffolk County|02131| 42.29255662362827|-71.06116042204106|        571935.8725|  787.5374999999999|\n",
      "|d488232e-bf14-4be...|2003-01-28|     NULL|999-56-6057|S99929424|      NULL|   Ms.|Phillis443|     Walter473|  NULL|  NULL|   NULL|white|nonhispanic|     F|Boston  Massachus...| 677 Ritchie Terrace|    Hingham|Massachusetts|Plymouth County|02043|42.200490824321214|-70.91607557520302|         582557.803| 104782.20699999998|\n",
      "|217f95a3-4e10-bd5...|1993-12-23|     NULL|999-91-4320|S99991143|X44132498X|   Mr.|Jerrold404|     Herzog843|  NULL|  NULL|      M|black|nonhispanic|     M|Boston  Massachus...|  276 Bernier Branch|     Revere|Massachusetts| Suffolk County| NULL|  42.3818748756275|-70.99928578468784|         475826.855| 18067.094999999998|\n",
      "+--------------------+----------+---------+-----------+---------+----------+------+----------+--------------+------+------+-------+-----+-----------+------+--------------------+--------------------+-----------+-------------+---------------+-----+------------------+------------------+-------------------+-------------------+\n",
      "only showing top 5 rows\n",
      "+--------------------+--------------------+--------------------+--------------------+--------------------+--------------------+--------------------+--------------+---------+--------------------+-------------------+----------------+--------------+----------+-----------------+\n",
      "|                  Id|               START|                STOP|             PATIENT|        ORGANIZATION|            PROVIDER|               PAYER|ENCOUNTERCLASS|     CODE|         DESCRIPTION|BASE_ENCOUNTER_COST|TOTAL_CLAIM_COST|PAYER_COVERAGE|REASONCODE|REASONDESCRIPTION|\n",
      "+--------------------+--------------------+--------------------+--------------------+--------------------+--------------------+--------------------+--------------+---------+--------------------+-------------------+----------------+--------------+----------+-----------------+\n",
      "|748f8357-6cc7-551...|2019-02-17T05:07:38Z|2019-02-17T05:22:38Z|b9c610cd-28a6-463...|f7ae497d-8dc6-372...|82608ebb-037c-3ce...|7c4411ce-02f1-39b...|      wellness|410620009|Well child visit ...|             129.16|          877.79|        833.90|      NULL|             NULL|\n",
      "|5a4735ae-423f-656...|2019-03-24T05:07:38Z|2019-03-24T05:22:38Z|b9c610cd-28a6-463...|f7ae497d-8dc6-372...|82608ebb-037c-3ce...|7c4411ce-02f1-39b...|      wellness|410620009|Well child visit ...|             129.16|          269.68|        256.20|      NULL|             NULL|\n",
      "|0bee1ce6-3e2c-550...|2019-05-26T05:07:38Z|2019-05-26T05:22:38Z|b9c610cd-28a6-463...|f7ae497d-8dc6-372...|82608ebb-037c-3ce...|7c4411ce-02f1-39b...|      wellness|410620009|Well child visit ...|             129.16|         1292.75|       1228.11|      NULL|             NULL|\n",
      "|6e93bcf9-45a4-852...|2019-07-28T05:07:38Z|2019-07-28T05:22:38Z|b9c610cd-28a6-463...|f7ae497d-8dc6-372...|82608ebb-037c-3ce...|7c4411ce-02f1-39b...|      wellness|410620009|Well child visit ...|             129.16|         1323.87|       1257.68|      NULL|             NULL|\n",
      "|8b6787c3-4316-a0c...|2019-10-27T05:07:38Z|2019-10-27T05:22:38Z|b9c610cd-28a6-463...|f7ae497d-8dc6-372...|82608ebb-037c-3ce...|7c4411ce-02f1-39b...|      wellness|410620009|Well child visit ...|             129.16|          831.76|        790.17|      NULL|             NULL|\n",
      "+--------------------+--------------------+--------------------+--------------------+--------------------+--------------------+--------------------+--------------+---------+--------------------+-------------------+----------------+--------------+----------+-----------------+\n",
      "only showing top 5 rows\n",
      "+--------------------+--------------------+--------------------+-----------+-------+--------------------+-----+-------+-------+\n",
      "|                DATE|             PATIENT|           ENCOUNTER|   CATEGORY|   CODE|         DESCRIPTION|VALUE|  UNITS|   TYPE|\n",
      "+--------------------+--------------------+--------------------+-----------+-------+--------------------+-----+-------+-------+\n",
      "|2019-02-17T05:07:38Z|b9c610cd-28a6-463...|748f8357-6cc7-551...|vital-signs| 8302-2|         Body Height| 51.4|     cm|numeric|\n",
      "|2019-02-17T05:07:38Z|b9c610cd-28a6-463...|748f8357-6cc7-551...|vital-signs|72514-3|Pain severity - 0...|  1.0|{score}|numeric|\n",
      "|2019-02-17T05:07:38Z|b9c610cd-28a6-463...|748f8357-6cc7-551...|vital-signs|29463-7|         Body Weight|  3.8|     kg|numeric|\n",
      "|2019-02-17T05:07:38Z|b9c610cd-28a6-463...|748f8357-6cc7-551...|vital-signs|77606-2|Weight-for-length...| 57.9|      %|numeric|\n",
      "|2019-02-17T05:07:38Z|b9c610cd-28a6-463...|748f8357-6cc7-551...|vital-signs| 9843-4|Head Occipital-fr...| 34.8|     cm|numeric|\n",
      "+--------------------+--------------------+--------------------+-----------+-------+--------------------+-----+-------+-------+\n",
      "only showing top 5 rows\n",
      "+--------------------+--------------------+--------------------+--------------------+--------------------+-------+--------------------+---------+--------------+---------+---------+----------+--------------------+\n",
      "|               START|                STOP|             PATIENT|               PAYER|           ENCOUNTER|   CODE|         DESCRIPTION|BASE_COST|PAYER_COVERAGE|DISPENSES|TOTALCOST|REASONCODE|   REASONDESCRIPTION|\n",
      "+--------------------+--------------------+--------------------+--------------------+--------------------+-------+--------------------+---------+--------------+---------+---------+----------+--------------------+\n",
      "|2020-02-17T10:40:32Z|                NULL|b9c610cd-28a6-463...|7c4411ce-02f1-39b...|01efcc52-15d6-51e...|1014676|cetirizine hydroc...|    21.45|          0.00|       21|   450.45|      NULL|                NULL|\n",
      "|2020-02-17T10:40:32Z|                NULL|b9c610cd-28a6-463...|7c4411ce-02f1-39b...|01efcc52-15d6-51e...|1870230|NDA020800 0.3 ML ...|   231.58|          0.00|       21|  4863.18|      NULL|                NULL|\n",
      "|2013-06-24T06:39:19Z|2013-07-02T06:39:19Z|c1f1fcaa-82fd-d5b...|42c4fca7-f8a9-3cd...|0b2794bd-ec2b-d34...|1043400|Acetaminophen 21....|     7.59|          0.00|        1|     7.59|  10509002|Acute bronchitis ...|\n",
      "|2016-02-27T08:52:29Z|2016-03-14T08:52:29Z|c1f1fcaa-82fd-d5b...|6e2f1a2d-27bd-370...|a6d818dd-0983-fd1...| 198405|Ibuprofen 100 MG ...|    12.48|          0.00|        1|    12.48|      NULL|                NULL|\n",
      "|2017-02-22T09:25:31Z|2017-06-02T09:25:31Z|c1f1fcaa-82fd-d5b...|047f6ec3-6215-35e...|6474f606-5a1b-48c...| 313820|Acetaminophen 160...|     4.77|          0.00|        3|    14.31|      NULL|                NULL|\n",
      "+--------------------+--------------------+--------------------+--------------------+--------------------+-------+--------------------+---------+--------------+---------+---------+----------+--------------------+\n",
      "only showing top 5 rows\n",
      "+----------+----------+--------------------+--------------------+---------+--------------------+\n",
      "|     START|      STOP|             PATIENT|           ENCOUNTER|     CODE|         DESCRIPTION|\n",
      "+----------+----------+--------------------+--------------------+---------+--------------------+\n",
      "|2013-06-24|2013-07-02|c1f1fcaa-82fd-d5b...|0b2794bd-ec2b-d34...| 10509002|Acute bronchitis ...|\n",
      "|2016-02-27|2016-03-14|c1f1fcaa-82fd-d5b...|a6d818dd-0983-fd1...|283371005|Laceration of for...|\n",
      "|2016-08-11|2016-08-22|c1f1fcaa-82fd-d5b...|36d2e781-4655-0a1...|444814009|Viral sinusitis (...|\n",
      "|2016-11-27|2016-12-17|c1f1fcaa-82fd-d5b...|c8eaaf41-958b-31a...|444814009|Viral sinusitis (...|\n",
      "|2017-02-22|2017-06-02|c1f1fcaa-82fd-d5b...|6474f606-5a1b-48c...| 16114001|   Fracture of ankle|\n",
      "+----------+----------+--------------------+--------------------+---------+--------------------+\n",
      "only showing top 5 rows\n"
     ]
    }
   ],
   "source": [
    "# Load CSV Files into PySpark DataFrames\n",
    "# File paths\n",
    "patients_csv = \"../data/raw/patients.csv\"\n",
    "encounters_csv = \"../data/raw/encounters.csv\"\n",
    "observations_csv = \"../data/raw/observations.csv\"\n",
    "medications_csv = \"../data/raw/medications.csv\"\n",
    "conditions_csv = \"../data/raw/conditions.csv\"\n",
    "\n",
    "# Load CSVs\n",
    "patients_df = spark.read.option(\"header\", True).csv(patients_csv)\n",
    "encounters_df = spark.read.option(\"header\", True).csv(encounters_csv)\n",
    "observations_df = spark.read.option(\"header\", True).csv(observations_csv)\n",
    "medications_df = spark.read.option(\"header\", True).csv(medications_csv)\n",
    "conditions_df = spark.read.option(\"header\", True).csv(conditions_csv)\n",
    "\n",
    "# Quick check what data we have\n",
    "patients_df.show(5)\n",
    "encounters_df.show(5)\n",
    "observations_df.show(5)\n",
    "medications_df.show(5)\n",
    "conditions_df.show(5)\n"
   ]
  },
  {
   "cell_type": "code",
   "execution_count": 28,
   "id": "dcf169b1",
   "metadata": {},
   "outputs": [
    {
     "name": "stdout",
     "output_type": "stream",
     "text": [
      "root\n",
      " |-- Id: string (nullable = true)\n",
      " |-- BIRTHDATE: string (nullable = true)\n",
      " |-- DEATHDATE: string (nullable = true)\n",
      " |-- SSN: string (nullable = true)\n",
      " |-- DRIVERS: string (nullable = true)\n",
      " |-- PASSPORT: string (nullable = true)\n",
      " |-- PREFIX: string (nullable = true)\n",
      " |-- FIRST: string (nullable = true)\n",
      " |-- LAST: string (nullable = true)\n",
      " |-- SUFFIX: string (nullable = true)\n",
      " |-- MAIDEN: string (nullable = true)\n",
      " |-- MARITAL: string (nullable = true)\n",
      " |-- RACE: string (nullable = true)\n",
      " |-- ETHNICITY: string (nullable = true)\n",
      " |-- GENDER: string (nullable = true)\n",
      " |-- BIRTHPLACE: string (nullable = true)\n",
      " |-- ADDRESS: string (nullable = true)\n",
      " |-- CITY: string (nullable = true)\n",
      " |-- STATE: string (nullable = true)\n",
      " |-- COUNTY: string (nullable = true)\n",
      " |-- ZIP: string (nullable = true)\n",
      " |-- LAT: string (nullable = true)\n",
      " |-- LON: string (nullable = true)\n",
      " |-- HEALTHCARE_EXPENSES: string (nullable = true)\n",
      " |-- HEALTHCARE_COVERAGE: string (nullable = true)\n",
      "\n"
     ]
    }
   ],
   "source": [
    "# Show schema of patients_df\n",
    "patients_df.printSchema()\n"
   ]
  },
  {
   "cell_type": "code",
   "execution_count": 29,
   "id": "027f9e8d",
   "metadata": {},
   "outputs": [
    {
     "name": "stdout",
     "output_type": "stream",
     "text": [
      "#️⃣ Number of patients: 1163\n"
     ]
    }
   ],
   "source": [
    "# Count rows\n",
    "print(\"#️⃣ Number of patients:\", patients_df.count())\n"
   ]
  },
  {
   "cell_type": "code",
   "execution_count": 30,
   "id": "7a9ac366",
   "metadata": {},
   "outputs": [
    {
     "name": "stdout",
     "output_type": "stream",
     "text": [
      "+---+---------+---------+---+-------+--------+------+-----+----+------+------+-------+----+---------+------+----------+-------+----+-----+------+---+---+---+-------------------+-------------------+\n",
      "| Id|BIRTHDATE|DEATHDATE|SSN|DRIVERS|PASSPORT|PREFIX|FIRST|LAST|SUFFIX|MAIDEN|MARITAL|RACE|ETHNICITY|GENDER|BIRTHPLACE|ADDRESS|CITY|STATE|COUNTY|ZIP|LAT|LON|HEALTHCARE_EXPENSES|HEALTHCARE_COVERAGE|\n",
      "+---+---------+---------+---+-------+--------+------+-----+----+------+------+-------+----+---------+------+----------+-------+----+-----+------+---+---+---+-------------------+-------------------+\n",
      "|  0|        0|     1000|  0|    215|     276|   245|    0|   0|  1147|   832|    384|   0|        0|     0|         0|      0|   0|    0|     0|545|  0|  0|                  0|                  0|\n",
      "+---+---------+---------+---+-------+--------+------+-----+----+------+------+-------+----+---------+------+----------+-------+----+-----+------+---+---+---+-------------------+-------------------+\n",
      "\n",
      "+------+\n",
      "|gender|\n",
      "+------+\n",
      "|     F|\n",
      "|     M|\n",
      "+------+\n",
      "\n"
     ]
    }
   ],
   "source": [
    "# Check missing values\n",
    "from pyspark.sql import functions as F\n",
    "\n",
    "# Check missing values per column\n",
    "patients_df.select([F.sum(F.col(c).isNull().cast(\"int\")).alias(c) for c in patients_df.columns]).show()\n",
    "\n",
    "# View unique values in a column\n",
    "patients_df.select(\"gender\").distinct().show()\n"
   ]
  },
  {
   "cell_type": "code",
   "execution_count": 31,
   "id": "7f3bd343",
   "metadata": {},
   "outputs": [],
   "source": [
    "# Convert all column names to lowercase\n",
    "patients_df = patients_df.toDF(*[c.lower() for c in patients_df.columns])\n",
    "encounters_df = encounters_df.toDF(*[c.lower() for c in encounters_df.columns])\n",
    "observations_df = observations_df.toDF(*[c.lower() for c in observations_df.columns])\n",
    "medications_df = medications_df.toDF(*[c.lower() for c in medications_df.columns])\n",
    "conditions_df = conditions_df.toDF(*[c.lower() for c in conditions_df.columns])\n"
   ]
  },
  {
   "cell_type": "code",
   "execution_count": 32,
   "id": "f5d35b13",
   "metadata": {},
   "outputs": [
    {
     "name": "stdout",
     "output_type": "stream",
     "text": [
      "+--------------------+----------+---------+------+-----+-----------+-------+-------------+-----------+\n",
      "|                  id| birthdate|deathdate|gender| race|  ethnicity|marital|        state|       city|\n",
      "+--------------------+----------+---------+------+-----+-----------+-------+-------------+-----------+\n",
      "|b9c610cd-28a6-463...|2019-02-17|     NULL|     M|white|nonhispanic|unknown|Massachusetts|Springfield|\n",
      "|c1f1fcaa-82fd-d5b...|2005-07-04|     NULL|     F|white|nonhispanic|unknown|Massachusetts| Bellingham|\n",
      "|339144f8-50e1-633...|1998-05-11|     NULL|     M|white|nonhispanic|unknown|Massachusetts|     Boston|\n",
      "|d488232e-bf14-4be...|2003-01-28|     NULL|     F|white|nonhispanic|unknown|Massachusetts|    Hingham|\n",
      "|217f95a3-4e10-bd5...|1993-12-23|     NULL|     M|black|nonhispanic|      M|Massachusetts|     Revere|\n",
      "+--------------------+----------+---------+------+-----+-----------+-------+-------------+-----------+\n",
      "only showing top 5 rows\n"
     ]
    }
   ],
   "source": [
    "# Prepare patient-level info\n",
    "patients_clean = (\n",
    "    patients_df\n",
    "    .select(\n",
    "        \"id\",\n",
    "        \"birthdate\",\n",
    "        \"deathdate\",\n",
    "        \"gender\",\n",
    "        \"race\",\n",
    "        \"ethnicity\",\n",
    "        \"marital\",\n",
    "        \"state\",\n",
    "        \"city\"\n",
    "    )\n",
    "    # Convert birthdate and deathdate to proper date type\n",
    "    .withColumn(\"birthdate\", F.to_date(\"birthdate\"))\n",
    "    .withColumn(\"deathdate\", F.to_date(\"deathdate\"))\n",
    "    # Fill missing categorical values\n",
    "    .fillna({\"gender\": \"unknown\",\n",
    "             \"race\": \"unknown\",\n",
    "             \"ethnicity\": \"unknown\",\n",
    "             \"marital\": \"unknown\"})\n",
    ")\n",
    "\n",
    "patients_clean.show(5)"
   ]
  },
  {
   "cell_type": "code",
   "execution_count": 33,
   "id": "0ef519d1",
   "metadata": {},
   "outputs": [
    {
     "name": "stdout",
     "output_type": "stream",
     "text": [
      "+--------------------+--------------+---------------+--------------+\n",
      "|             patient|num_encounters|first_encounter|last_encounter|\n",
      "+--------------------+--------------+---------------+--------------+\n",
      "|34b1b3b3-73ce-1bc...|            66|     1965-11-06|    2021-09-18|\n",
      "|179d9711-5c0f-958...|            22|     1981-12-10|    1991-11-21|\n",
      "|b5e092a6-8d10-a0b...|            22|     2012-01-08|    2021-10-10|\n",
      "|60e27639-436c-6c0...|            36|     1977-11-20|    2021-10-17|\n",
      "|303c8bd7-a047-5e7...|            27|     2012-06-30|    2021-08-21|\n",
      "+--------------------+--------------+---------------+--------------+\n",
      "only showing top 5 rows\n"
     ]
    }
   ],
   "source": [
    "# Aggregate encounters per patient and convert full timestamp to YYYY-MM-DD\n",
    "encounters_agg = (\n",
    "    encounters_df\n",
    "    .withColumn(\"start_date\", F.to_date(\"start\"))\n",
    "    .groupBy(\"patient\")\n",
    "    .agg(\n",
    "        F.count(\"*\").alias(\"num_encounters\"),\n",
    "        F.min(\"start_date\").alias(\"first_encounter\"),\n",
    "        F.max(\"start_date\").alias(\"last_encounter\")\n",
    "    )\n",
    ")\n",
    "\n",
    "encounters_agg.show(5)"
   ]
  },
  {
   "cell_type": "code",
   "execution_count": 34,
   "id": "2f8b269e",
   "metadata": {},
   "outputs": [
    {
     "name": "stdout",
     "output_type": "stream",
     "text": [
      "+--------------------+--------+--------+------------------+----------+\n",
      "|             patient|pain_min|pain_max|          pain_avg|pain_count|\n",
      "+--------------------+--------+--------+------------------+----------+\n",
      "|34b1b3b3-73ce-1bc...|     1.0|     3.0|               2.3|        10|\n",
      "|303c8bd7-a047-5e7...|     0.0|     4.0|               2.0|         8|\n",
      "|1d1af1df-c916-953...|     0.0|     4.0|               2.6|        10|\n",
      "|403f6042-df1e-7ef...|     0.0|     3.0|1.2727272727272727|        11|\n",
      "|e8ffd460-0685-796...|     1.0|     3.0|             1.625|         8|\n",
      "+--------------------+--------+--------+------------------+----------+\n",
      "only showing top 5 rows\n"
     ]
    }
   ],
   "source": [
    "# Keep only numeric pain severity observations\n",
    "observations_pain = observations_df.filter(\n",
    "    (F.col(\"type\") == \"numeric\") & (F.col(\"description\").like(\"%Pain severity%\"))\n",
    ")\n",
    "\n",
    "# Aggregate per patient\n",
    "pain_summary = (\n",
    "    observations_pain.groupBy(\"patient\")\n",
    "    .agg(\n",
    "        F.min(F.col(\"value\").cast(\"double\")).alias(\"pain_min\"),\n",
    "        F.max(F.col(\"value\").cast(\"double\")).alias(\"pain_max\"),\n",
    "        F.avg(F.col(\"value\").cast(\"double\")).alias(\"pain_avg\"),\n",
    "        F.count(\"*\").alias(\"pain_count\")\n",
    "    )\n",
    ")\n",
    "\n",
    "pain_summary.show(5)\n"
   ]
  },
  {
   "cell_type": "code",
   "execution_count": 35,
   "id": "9055cea6",
   "metadata": {},
   "outputs": [
    {
     "name": "stdout",
     "output_type": "stream",
     "text": [
      "+--------------------+---------------+------------------+\n",
      "|             patient|num_medications|    total_med_cost|\n",
      "+--------------------+---------------+------------------+\n",
      "|34b1b3b3-73ce-1bc...|             60|52761.789999999986|\n",
      "|179d9711-5c0f-958...|              5|           4863.55|\n",
      "|ad134528-56a5-35f...|            191| 509172.7399999998|\n",
      "|a57215c7-228c-a1f...|             80| 383205.5199999999|\n",
      "|b5e092a6-8d10-a0b...|              4|             62.41|\n",
      "+--------------------+---------------+------------------+\n",
      "only showing top 5 rows\n"
     ]
    }
   ],
   "source": [
    "# Aggregate medications per patient\n",
    "medications_agg = (\n",
    "    medications_df.groupBy(\"patient\")\n",
    "    .agg(\n",
    "        F.count(\"*\").alias(\"num_medications\"),\n",
    "        F.sum(F.col(\"totalcost\").cast(\"double\")).alias(\"total_med_cost\")\n",
    "    )\n",
    ")\n",
    "\n",
    "medications_agg.show(5)\n"
   ]
  },
  {
   "cell_type": "code",
   "execution_count": 36,
   "id": "e2297c18",
   "metadata": {},
   "outputs": [
    {
     "name": "stdout",
     "output_type": "stream",
     "text": [
      "+--------------------+--------------+\n",
      "|             patient|num_conditions|\n",
      "+--------------------+--------------+\n",
      "|964576b0-7527-b34...|             8|\n",
      "|34b1b3b3-73ce-1bc...|            34|\n",
      "|179d9711-5c0f-958...|            10|\n",
      "|eb16b994-f2ca-bee...|             4|\n",
      "|ad134528-56a5-35f...|            63|\n",
      "+--------------------+--------------+\n",
      "only showing top 5 rows\n"
     ]
    }
   ],
   "source": [
    "# Count conditions per patient\n",
    "conditions_agg = (\n",
    "    conditions_df.groupBy(\"patient\")\n",
    "    .agg(\n",
    "        F.count(\"*\").alias(\"num_conditions\")\n",
    "    )\n",
    ")\n",
    "\n",
    "conditions_agg.show(5)"
   ]
  },
  {
   "cell_type": "code",
   "execution_count": 37,
   "id": "75a2b7f1",
   "metadata": {},
   "outputs": [
    {
     "name": "stdout",
     "output_type": "stream",
     "text": [
      "+--------------------+----------+---------+------+-----+-----------+-------+-------------+-----------+--------------+---------------+--------------+--------+--------+------------------+----------+---------------+------------------+--------------+\n",
      "|                  id| birthdate|deathdate|gender| race|  ethnicity|marital|        state|       city|num_encounters|first_encounter|last_encounter|pain_min|pain_max|          pain_avg|pain_count|num_medications|    total_med_cost|num_conditions|\n",
      "+--------------------+----------+---------+------+-----+-----------+-------+-------------+-----------+--------------+---------------+--------------+--------+--------+------------------+----------+---------------+------------------+--------------+\n",
      "|d488232e-bf14-4be...|2003-01-28|     NULL|     F|white|nonhispanic|unknown|Massachusetts|    Hingham|            31|     2011-06-01|    2021-09-27|     1.0|     4.0|2.6666666666666665|        12|              2|19.799999999999997|            10|\n",
      "|339144f8-50e1-633...|1998-05-11|     NULL|     M|white|nonhispanic|unknown|Massachusetts|     Boston|            19|     2012-06-11|    2021-08-02|     0.0|     4.0|1.9090909090909092|        11|             22|             81.71|            19|\n",
      "|217f95a3-4e10-bd5...|1993-12-23|     NULL|     M|black|nonhispanic|      M|Massachusetts|     Revere|            10|     2012-02-16|    2019-02-28|     1.0|     2.0|              1.25|         4|              1|              9.14|            14|\n",
      "|c1f1fcaa-82fd-d5b...|2005-07-04|     NULL|     F|white|nonhispanic|unknown|Massachusetts| Bellingham|            20|     2012-06-25|    2021-10-04|     1.0|     4.0|               2.5|        10|              5|1181.7800000000002|             6|\n",
      "|b9c610cd-28a6-463...|2019-02-17|     NULL|     M|white|nonhispanic|unknown|Massachusetts|Springfield|            12|     2019-02-17|    2021-07-25|     0.0|     4.0|               1.8|        10|              2|           5313.63|          NULL|\n",
      "+--------------------+----------+---------+------+-----+-----------+-------+-------------+-----------+--------------+---------------+--------------+--------+--------+------------------+----------+---------------+------------------+--------------+\n",
      "only showing top 5 rows\n"
     ]
    }
   ],
   "source": [
    "# Join patients_clean, encounters_agg, pain_summary, medications_agg and conditions_agg into one patient-level table\n",
    "\n",
    "# Start from patients_clean\n",
    "patients_main = patients_clean\n",
    "\n",
    "# Join encounters_agg\n",
    "patients_main = patients_main.join(\n",
    "    encounters_agg,\n",
    "    patients_main.id == encounters_agg.patient,\n",
    "    how=\"left\"\n",
    ").drop(encounters_agg.patient)\n",
    "\n",
    "# Join pain_summary\n",
    "patients_main = patients_main.join(\n",
    "    pain_summary,\n",
    "    patients_main.id == pain_summary.patient,\n",
    "    how=\"left\"\n",
    ").drop(pain_summary.patient)\n",
    "\n",
    "# Join medications_agg\n",
    "patients_main = patients_main.join(\n",
    "    medications_agg,\n",
    "    patients_main.id == medications_agg.patient,\n",
    "    how=\"left\"\n",
    ").drop(medications_agg.patient)\n",
    "\n",
    "# Join conditions_agg\n",
    "patients_main = patients_main.join(\n",
    "    conditions_agg,\n",
    "    patients_main.id == conditions_agg.patient,\n",
    "    how=\"left\"\n",
    ").drop(conditions_agg.patient)\n",
    "\n",
    "patients_main.show(5)"
   ]
  },
  {
   "cell_type": "code",
   "execution_count": 38,
   "id": "185fa48d",
   "metadata": {},
   "outputs": [
    {
     "name": "stdout",
     "output_type": "stream",
     "text": [
      "+--------------------+----------+---------+------+-----+-----------+-------+-------------+---------------+--------------+---------------+--------------+--------+--------+--------+----------+---------------+--------------+--------------+---+-----------+\n",
      "|                  id| birthdate|deathdate|gender| race|  ethnicity|marital|        state|           city|num_encounters|first_encounter|last_encounter|pain_min|pain_max|pain_avg|pain_count|num_medications|total_med_cost|num_conditions|age|is_deceased|\n",
      "+--------------------+----------+---------+------+-----+-----------+-------+-------------+---------------+--------------+---------------+--------------+--------+--------+--------+----------+---------------+--------------+--------------+---+-----------+\n",
      "|b9c610cd-28a6-463...|2019-02-17|     NULL|     M|white|nonhispanic|unknown|Massachusetts|    Springfield|            12|     2019-02-17|    2021-07-25|     0.0|     4.0|     1.8|        10|              2|       5313.63|             0|  6|          0|\n",
      "|c1f1fcaa-82fd-d5b...|2005-07-04|     NULL|     F|white|nonhispanic|unknown|Massachusetts|     Bellingham|            20|     2012-06-25|    2021-10-04|     1.0|     4.0|     2.5|        10|              5|       1181.78|             6| 20|          0|\n",
      "|339144f8-50e1-633...|1998-05-11|     NULL|     M|white|nonhispanic|unknown|Massachusetts|         Boston|            19|     2012-06-11|    2021-08-02|     0.0|     4.0|    1.91|        11|             22|         81.71|            19| 27|          0|\n",
      "|d488232e-bf14-4be...|2003-01-28|     NULL|     F|white|nonhispanic|unknown|Massachusetts|        Hingham|            31|     2011-06-01|    2021-09-27|     1.0|     4.0|    2.67|        12|              2|          19.8|            10| 22|          0|\n",
      "|217f95a3-4e10-bd5...|1993-12-23|     NULL|     M|black|nonhispanic|      M|Massachusetts|         Revere|            10|     2012-02-16|    2019-02-28|     1.0|     2.0|    1.25|         4|              1|          9.14|            14| 31|          0|\n",
      "|faac724a-a9e9-be6...|2020-12-04|     NULL|     F|white|nonhispanic|unknown|Massachusetts|New Marlborough|             7|     2020-12-04|    2021-11-12|     0.0|     2.0|    0.83|         6|              0|           0.0|             4|  4|          0|\n",
      "|23d16ee3-8cd4-eeb...|1990-12-15|     NULL|     M|black|   hispanic|      M|Massachusetts|         Revere|            13|     2004-01-10|    2019-02-23|     1.0|     4.0|     2.5|         4|              3|         71.68|            16| 34|          0|\n",
      "|aade3c61-92bd-d07...|1985-06-05|     NULL|     M|white|nonhispanic|      M|Massachusetts|     Somerville|            17|     1994-07-20|    2021-05-19|     1.0|     3.0|     2.0|         4|              4|         43.44|            21| 40|          0|\n",
      "|0288c42c-43a1-987...|1979-12-17|     NULL|     F|white|nonhispanic|      M|Massachusetts|      Cambridge|            32|     1981-05-02|    2021-06-01|     0.0|    10.0|    4.23|        18|             16|      17048.03|            23| 45|          0|\n",
      "|dc6c06d0-a7d8-100...|2006-07-11|     NULL|     M|white|nonhispanic|unknown|Massachusetts|    Springfield|            16|     2012-06-26|    2021-09-28|     0.0|     4.0|     2.4|        10|              2|         24.49|             3| 19|          0|\n",
      "+--------------------+----------+---------+------+-----+-----------+-------+-------------+---------------+--------------+---------------+--------------+--------+--------+--------+----------+---------------+--------------+--------------+---+-----------+\n",
      "only showing top 10 rows\n"
     ]
    }
   ],
   "source": [
    "#  Add calculated columns like age as of today and if a person is deceased or not\n",
    "patients_main = (\n",
    "    patients_main\n",
    "    .withColumn(\n",
    "        # Calculate age as integer (difference between today and birthdate in years)\n",
    "        \"age\", F.floor(F.datediff(F.current_date(), F.col(\"birthdate\")) / 365.25)\n",
    "    )\n",
    "    .withColumn(\n",
    "        # Flag if patient is deceased\n",
    "        \"is_deceased\", F.when(F.col(\"deathdate\").isNotNull(), 1).otherwise(0)\n",
    "    )\n",
    "    .fillna({\n",
    "        # Fill missing numeric columns with 0\n",
    "        \"pain_min\": 0,\n",
    "        \"pain_max\": 0,\n",
    "        \"pain_avg\": 0,\n",
    "        \"pain_count\": 0,\n",
    "        \"num_medications\": 0,\n",
    "        \"total_med_cost\": 0,\n",
    "        \"num_conditions\": 0\n",
    "    })\n",
    "    # Round pain_avg and total_med_cost columns to 2 decimals\n",
    "    .withColumn(\"pain_avg\", F.round(F.col(\"pain_avg\"), 2))\n",
    "    .withColumn(\"total_med_cost\", F.round(F.col(\"total_med_cost\"), 2))\n",
    ")\n",
    "\n",
    "patients_main.show(10)\n"
   ]
  },
  {
   "cell_type": "code",
   "execution_count": 39,
   "id": "192555bb",
   "metadata": {},
   "outputs": [],
   "source": [
    "# Save the patient-level DataFrame as a Delta table (overwrite if it already exists)\n",
    "patients_main.write.format(\"delta\").mode(\"overwrite\").save(\"../data/clean/patients_main\")"
   ]
  }
 ],
 "metadata": {
  "kernelspec": {
   "display_name": ".data",
   "language": "python",
   "name": "python3"
  },
  "language_info": {
   "codemirror_mode": {
    "name": "ipython",
    "version": 3
   },
   "file_extension": ".py",
   "mimetype": "text/x-python",
   "name": "python",
   "nbconvert_exporter": "python",
   "pygments_lexer": "ipython3",
   "version": "3.13.7"
  }
 },
 "nbformat": 4,
 "nbformat_minor": 5
}
